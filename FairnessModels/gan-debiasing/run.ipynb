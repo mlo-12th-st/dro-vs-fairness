{
 "cells": [
  {
   "cell_type": "code",
   "execution_count": 1,
   "id": "505ceced-acaf-4073-9c45-480382f7adeb",
   "metadata": {},
   "outputs": [
    {
     "name": "stdout",
     "output_type": "stream",
     "text": [
      "(218, 178, 3)\n"
     ]
    }
   ],
   "source": [
    "!python3 crop_images.py"
   ]
  },
  {
   "cell_type": "code",
   "execution_count": 16,
   "id": "e5091398-2ee4-4c97-a251-2da51acadf9d",
   "metadata": {},
   "outputs": [
    {
     "name": "stdout",
     "output_type": "stream",
     "text": [
      "{'experiment': 'baseline', 'experiment_name': '_', 'real_data_dir': 'data/celeba', 'fake_data_dir_orig': 'data/fake_images/AllGenImages/', 'fake_data_dir_new': '_', 'fake_scores_target': '_', 'fake_scores_protected': '_', 'cuda': True, 'random_seed': 0, 'attribute': 31, 'protected_attribute': 20, 'test_mode': False, 'num_train': 160000, 'number': 0, 'device': device(type='cuda'), 'dtype': torch.float32, 'print_freq': 100, 'total_epochs': 20, 'save_folder': 'record/baseline/Smiling', 'optimizer_setting': {'optimizer': <class 'torch.optim.adam.Adam'>, 'lr': 0.0001, 'weight_decay': 0}, 'dropout': 0.5, 'data_setting': {'path': 'data/celeba', 'params_real_train': {'batch_size': 32, 'shuffle': True, 'num_workers': 0}, 'params_real_val': {'batch_size': 64, 'shuffle': False, 'num_workers': 0}, 'protected_attribute': 20, 'attribute': 31, 'augment': True}}\n",
      "Starting to train model...\n",
      "Downloading: \"https://download.pytorch.org/models/resnet50-0676ba61.pth\" to /Users/jaredgridley/.cache/torch/hub/checkpoints/resnet50-0676ba61.pth\n",
      "100.0%\n",
      "Traceback (most recent call last):\n",
      "  File \"main.py\", line 196, in <module>\n",
      "    main(opt)\n",
      "  File \"main.py\", line 118, in main\n",
      "    AC.train(train)\n",
      "  File \"/Users/jaredgridley/Projects/Google Drive/MLO_project/FairnessModels/gan-debiasing/Models/attr_classifier.py\", line 45, in train\n",
      "    self.model = self.model.to(device=self.device, dtype=self.dtype)\n",
      "  File \"/Users/jaredgridley/Projects/Google Drive/MLO_project/FairnessModels/gan_debais_venv/lib/python3.8/site-packages/torch/nn/modules/module.py\", line 899, in to\n",
      "    return self._apply(convert)\n",
      "  File \"/Users/jaredgridley/Projects/Google Drive/MLO_project/FairnessModels/gan_debais_venv/lib/python3.8/site-packages/torch/nn/modules/module.py\", line 570, in _apply\n",
      "    module._apply(fn)\n",
      "  File \"/Users/jaredgridley/Projects/Google Drive/MLO_project/FairnessModels/gan_debais_venv/lib/python3.8/site-packages/torch/nn/modules/module.py\", line 570, in _apply\n",
      "    module._apply(fn)\n",
      "  File \"/Users/jaredgridley/Projects/Google Drive/MLO_project/FairnessModels/gan_debais_venv/lib/python3.8/site-packages/torch/nn/modules/module.py\", line 593, in _apply\n",
      "    param_applied = fn(param)\n",
      "  File \"/Users/jaredgridley/Projects/Google Drive/MLO_project/FairnessModels/gan_debais_venv/lib/python3.8/site-packages/torch/nn/modules/module.py\", line 897, in convert\n",
      "    return t.to(device, dtype if t.is_floating_point() or t.is_complex() else None, non_blocking)\n",
      "  File \"/Users/jaredgridley/Projects/Google Drive/MLO_project/FairnessModels/gan_debais_venv/lib/python3.8/site-packages/torch/cuda/__init__.py\", line 208, in _lazy_init\n",
      "    raise AssertionError(\"Torch not compiled with CUDA enabled\")\n",
      "AssertionError: Torch not compiled with CUDA enabled\n"
     ]
    }
   ],
   "source": [
    "!python3 main.py --experiment baseline"
   ]
  },
  {
   "cell_type": "code",
   "execution_count": 14,
   "id": "a0cd40bb-af91-40ee-8dd4-a47d961f2014",
   "metadata": {},
   "outputs": [
    {
     "name": "stdout",
     "output_type": "stream",
     "text": [
      "Collecting scikit-image\n",
      "  Downloading scikit_image-0.18.3-cp38-cp38-macosx_10_9_x86_64.whl (13.0 MB)\n",
      "     |████████████████████████████████| 13.0 MB 4.2 MB/s            \n",
      "\u001b[?25hCollecting tifffile>=2019.7.26\n",
      "  Downloading tifffile-2021.11.2-py3-none-any.whl (178 kB)\n",
      "     |████████████████████████████████| 178 kB 2.2 MB/s            \n",
      "\u001b[?25hRequirement already satisfied: imageio>=2.3.0 in /Users/jaredgridley/Projects/Google Drive/MLO_project/FairnessModels/gan_debais_venv/lib/python3.8/site-packages (from scikit-image) (2.10.3)\n",
      "Requirement already satisfied: matplotlib!=3.0.0,>=2.0.0 in /Users/jaredgridley/Projects/Google Drive/MLO_project/FairnessModels/gan_debais_venv/lib/python3.8/site-packages (from scikit-image) (3.4.3)\n",
      "Collecting PyWavelets>=1.1.1\n",
      "  Downloading PyWavelets-1.2.0-cp38-cp38-macosx_10_13_x86_64.whl (4.3 MB)\n",
      "     |████████████████████████████████| 4.3 MB 3.4 MB/s            \n",
      "\u001b[?25hRequirement already satisfied: scipy>=1.0.1 in /Users/jaredgridley/Projects/Google Drive/MLO_project/FairnessModels/gan_debais_venv/lib/python3.8/site-packages (from scikit-image) (1.7.2)\n",
      "Collecting networkx>=2.0\n",
      "  Downloading networkx-2.6.3-py3-none-any.whl (1.9 MB)\n",
      "     |████████████████████████████████| 1.9 MB 3.1 MB/s            \n",
      "\u001b[?25hRequirement already satisfied: numpy>=1.16.5 in /Users/jaredgridley/Projects/Google Drive/MLO_project/FairnessModels/gan_debais_venv/lib/python3.8/site-packages (from scikit-image) (1.21.4)\n",
      "Requirement already satisfied: pillow!=7.1.0,!=7.1.1,>=4.3.0 in /Users/jaredgridley/Projects/Google Drive/MLO_project/FairnessModels/gan_debais_venv/lib/python3.8/site-packages (from scikit-image) (8.4.0)\n",
      "Requirement already satisfied: pyparsing>=2.2.1 in /Users/jaredgridley/Projects/Google Drive/MLO_project/FairnessModels/gan_debais_venv/lib/python3.8/site-packages (from matplotlib!=3.0.0,>=2.0.0->scikit-image) (3.0.5)\n",
      "Requirement already satisfied: cycler>=0.10 in /Users/jaredgridley/Projects/Google Drive/MLO_project/FairnessModels/gan_debais_venv/lib/python3.8/site-packages (from matplotlib!=3.0.0,>=2.0.0->scikit-image) (0.11.0)\n",
      "Requirement already satisfied: kiwisolver>=1.0.1 in /Users/jaredgridley/Projects/Google Drive/MLO_project/FairnessModels/gan_debais_venv/lib/python3.8/site-packages (from matplotlib!=3.0.0,>=2.0.0->scikit-image) (1.3.2)\n",
      "Requirement already satisfied: python-dateutil>=2.7 in /Users/jaredgridley/Projects/Google Drive/MLO_project/FairnessModels/gan_debais_venv/lib/python3.8/site-packages (from matplotlib!=3.0.0,>=2.0.0->scikit-image) (2.8.2)\n",
      "Requirement already satisfied: six>=1.5 in /Users/jaredgridley/Projects/Google Drive/MLO_project/FairnessModels/gan_debais_venv/lib/python3.8/site-packages (from python-dateutil>=2.7->matplotlib!=3.0.0,>=2.0.0->scikit-image) (1.16.0)\n",
      "Installing collected packages: tifffile, PyWavelets, networkx, scikit-image\n",
      "Successfully installed PyWavelets-1.2.0 networkx-2.6.3 scikit-image-0.18.3 tifffile-2021.11.2\n"
     ]
    }
   ],
   "source": [
    "!pip install scikit-image"
   ]
  },
  {
   "cell_type": "code",
   "execution_count": 17,
   "id": "ee26ac02-e6b7-4e2e-97a9-96a582f15b69",
   "metadata": {},
   "outputs": [],
   "source": [
    "!pip3 freeze > requirements.txt"
   ]
  },
  {
   "cell_type": "code",
   "execution_count": null,
   "id": "1458fe54-c380-416f-b127-415e272b2e94",
   "metadata": {},
   "outputs": [],
   "source": []
  }
 ],
 "metadata": {
  "kernelspec": {
   "display_name": "Python 3",
   "language": "python",
   "name": "python3"
  },
  "language_info": {
   "codemirror_mode": {
    "name": "ipython",
    "version": 3
   },
   "file_extension": ".py",
   "mimetype": "text/x-python",
   "name": "python",
   "nbconvert_exporter": "python",
   "pygments_lexer": "ipython3",
   "version": "3.7.6"
  }
 },
 "nbformat": 4,
 "nbformat_minor": 5
}
